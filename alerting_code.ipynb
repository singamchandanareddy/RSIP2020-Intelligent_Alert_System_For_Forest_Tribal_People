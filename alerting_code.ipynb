{
 "cells": [
  {
   "cell_type": "markdown",
   "metadata": {},
   "source": [
    "# EMAIL AND ALARM ALERTING"
   ]
  },
  {
   "cell_type": "code",
   "execution_count": 5,
   "metadata": {},
   "outputs": [],
   "source": [
    "from keras.models import load_model\n",
    "from keras.preprocessing import image \n",
    "import numpy as np\n",
    "import cv2\n",
    "import smtplib\n",
    "from email.mime.multipart import MIMEMultipart \n",
    "from email.mime.text import MIMEText \n",
    "from email.mime.base import MIMEBase \n",
    "from email import encoders "
   ]
  },
  {
   "cell_type": "code",
   "execution_count": 6,
   "metadata": {},
   "outputs": [],
   "source": [
    "from tkinter import *\n",
    "from tkinter import messagebox"
   ]
  },
  {
   "cell_type": "code",
   "execution_count": 7,
   "metadata": {},
   "outputs": [],
   "source": [
    "import cv2\n",
    "#import facevec\n",
    "import numpy as np\n",
    "import smtplib\n",
    "from keras.preprocessing import image \n",
    "from keras.models  import load_model\n",
    "from playsound import playsound\n",
    "model = load_model('animals.h5') "
   ]
  },
  {
   "cell_type": "code",
   "execution_count": 8,
   "metadata": {},
   "outputs": [
    {
     "name": "stdout",
     "output_type": "stream",
     "text": [
      "wild_animal\n"
     ]
    }
   ],
   "source": [
    "video = cv2.VideoCapture(0)\n",
    "name = ['domestic_animal','wild_animal']\n",
    "count=0\n",
    "while(1):\n",
    "    success, frame = video.read()\n",
    "    cv2.imwrite(\"image.jpg\",frame)\n",
    "    img = image.load_img(\"image.jpg\",target_size = (64,64))\n",
    "    x  = image.img_to_array(img)\n",
    "    x = np.expand_dims(x,axis = 0)\n",
    "    pred = model.predict_classes(x)\n",
    "    p = pred[0]\n",
    "    print(name[pred[0]])\n",
    "    if pred[0]==1:\n",
    "        gmail_user = 'chandanaareddy11'   #email id without @gmail.com\n",
    "        gmail_password = 'chandu@123'\n",
    "        #email properties\n",
    "        sent_from = gmail_user\n",
    "        to = ['chandanaareddy11@gmail.com']\n",
    "        subject = 'Alert'\n",
    "        email_text = \"\"\"Alert for Wild Animal detection, stay alert\"\"\"\n",
    "        server = smtplib.SMTP_SSL('smtp.gmail.com', 465)\n",
    "        server.ehlo()\n",
    "        server.login(gmail_user, gmail_password)\n",
    "        server.sendmail(sent_from, to, email_text)\n",
    "        server.close()\n",
    "        #print(\"Its a wild animal...Alert,Alert!\")\n",
    "        #print ('Email sent!')\n",
    "        window=Tk()\n",
    "        window.eval('tk::PlaceWindow %s center'% window.winfo_toplevel())\n",
    "        window.withdraw()\n",
    "\n",
    "        messagebox.showwarning('warning','Alert! Its a wild animal')\n",
    "        messagebox.showinfo('information','Email sent!')\n",
    "        window.deiconify()\n",
    "        window.destroy()\n",
    "        window.quit()\n",
    "        playsound(r'C:\\Users\\CHANDANA REDDY\\Downloads\\danger.mp3')\n",
    "        break \n",
    "    else:\n",
    "        if(count==100):\n",
    "            window=Tk()\n",
    "            window.eval('tk::PlaceWindow %s center'% window.winfo_toplevel())\n",
    "            window.withdraw()\n",
    "            messagebox.showinfo('information','Safe! not a wildanimal')\n",
    "            window.deiconify()\n",
    "            window.destroy()\n",
    "            window.quit()\n",
    "            \n",
    "            break\n",
    "        count=count+1\n",
    "        #print(\"no danger\")\n",
    "    cv2.imshow(\"image\",frame)\n",
    "    if cv2.waitKey(25) & 0xFF == ord('a'): \n",
    "        break\n",
    "#print(count)\n",
    "video.release()\n",
    "cv2.destroyAllWindows()\n"
   ]
  },
  {
   "cell_type": "code",
   "execution_count": null,
   "metadata": {},
   "outputs": [],
   "source": []
  },
  {
   "cell_type": "code",
   "execution_count": null,
   "metadata": {},
   "outputs": [],
   "source": []
  }
 ],
 "metadata": {
  "kernelspec": {
   "display_name": "Python 3",
   "language": "python",
   "name": "python3"
  },
  "language_info": {
   "codemirror_mode": {
    "name": "ipython",
    "version": 3
   },
   "file_extension": ".py",
   "mimetype": "text/x-python",
   "name": "python",
   "nbconvert_exporter": "python",
   "pygments_lexer": "ipython3",
   "version": "3.7.6"
  }
 },
 "nbformat": 4,
 "nbformat_minor": 4
}
